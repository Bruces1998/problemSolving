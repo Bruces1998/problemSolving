{
 "cells": [
  {
   "cell_type": "code",
   "execution_count": 1,
   "metadata": {},
   "outputs": [
    {
     "ename": "SyntaxError",
     "evalue": "invalid syntax (<ipython-input-1-bb6c8bd41afa>, line 12)",
     "output_type": "error",
     "traceback": [
      "\u001b[0;36m  File \u001b[0;32m\"<ipython-input-1-bb6c8bd41afa>\"\u001b[0;36m, line \u001b[0;32m12\u001b[0m\n\u001b[0;31m    print(3x)\u001b[0m\n\u001b[0m           ^\u001b[0m\n\u001b[0;31mSyntaxError\u001b[0m\u001b[0;31m:\u001b[0m invalid syntax\n"
     ]
    }
   ],
   "source": [
    "p1 = int(input())\n",
    "p2 = int(input())\n",
    "p3 = int(input())\n",
    "q = int(input())\n",
    "e = int(input())\n",
    "r = int(input())\n",
    "\n",
    "x = (e - r - p1 - p2 - p3 + 2*q)//3\n",
    "\n",
    "A = x + p1 + p3 - q\n",
    "print(A)\n",
    "print(3x)"
   ]
  },
  {
   "cell_type": "code",
   "execution_count": null,
   "metadata": {},
   "outputs": [],
   "source": []
  },
  {
   "cell_type": "code",
   "execution_count": null,
   "metadata": {},
   "outputs": [],
   "source": []
  },
  {
   "cell_type": "code",
   "execution_count": null,
   "metadata": {},
   "outputs": [],
   "source": []
  },
  {
   "cell_type": "code",
   "execution_count": null,
   "metadata": {},
   "outputs": [],
   "source": []
  },
  {
   "cell_type": "code",
   "execution_count": null,
   "metadata": {},
   "outputs": [],
   "source": []
  },
  {
   "cell_type": "code",
   "execution_count": null,
   "metadata": {},
   "outputs": [],
   "source": []
  },
  {
   "cell_type": "code",
   "execution_count": null,
   "metadata": {},
   "outputs": [],
   "source": []
  },
  {
   "cell_type": "code",
   "execution_count": 21,
   "metadata": {},
   "outputs": [
    {
     "name": "stdout",
     "output_type": "stream",
     "text": [
      "15\n",
      "* . * # * * * # * * * # . * .\n",
      "* . * # * . * # . * . # * * *\n",
      "* * * # * * * # * * * # * . *\n",
      "U*E*O*A\n"
     ]
    }
   ],
   "source": [
    "n = int(input())\n",
    "arr = []\n",
    "for i in range(3):\n",
    "    arr.append(input().split())\n",
    "    \n",
    "ans = []\n",
    "i = 0\n",
    "last = \"#\"\n",
    "while(i < n):\n",
    "    if arr[0][i]==\".\":\n",
    "        if arr[0][i+1]==\"*\":\n",
    "            ans.append(\"A\")\n",
    "            \n",
    "            \n",
    "    else:\n",
    "        if arr[0][i]==\"*\":\n",
    "            if arr[0][i+1]==\".\":\n",
    "                ans.append(\"U\")\n",
    "                \n",
    "                \n",
    "            elif arr[1][i]==\".\":\n",
    "                ans.append(\"I\")\n",
    "                \n",
    "                \n",
    "            elif arr[0][i+1]==\"*\" and arr[1][i+1]==\".\":\n",
    "                ans.append(\"O\")\n",
    "                \n",
    "            else:\n",
    "                ans.append(\"E\")\n",
    "                \n",
    "                \n",
    "    i+=3\n",
    "                \n",
    "        \n",
    "print(\"*\".join(ans))\n",
    "            \n",
    "    \n",
    "    \n",
    "        \n",
    "    "
   ]
  },
  {
   "cell_type": "raw",
   "metadata": {},
   "source": [
    "* . * # * * * # * * * # . * .\n",
    "* . * # * . * # . * . # * * *\n",
    "* * * # * * * # * * * # * . *"
   ]
  },
  {
   "cell_type": "code",
   "execution_count": 10,
   "metadata": {},
   "outputs": [
    {
     "name": "stdout",
     "output_type": "stream",
     "text": [
      "3\n",
      ". . .\n",
      "3 5 5\n",
      "1 2 3\n"
     ]
    }
   ],
   "source": [
    "n = int(input())\n",
    "arr = []\n",
    "for i in range(3):\n",
    "    arr.append(input().split())\n",
    "    "
   ]
  },
  {
   "cell_type": "code",
   "execution_count": 11,
   "metadata": {},
   "outputs": [
    {
     "data": {
      "text/plain": [
       "[['.', '.', '.'], ['3', '5', '5'], ['1', '2', '3']]"
      ]
     },
     "execution_count": 11,
     "metadata": {},
     "output_type": "execute_result"
    }
   ],
   "source": [
    "arr"
   ]
  },
  {
   "cell_type": "code",
   "execution_count": 13,
   "metadata": {},
   "outputs": [
    {
     "data": {
      "text/plain": [
       "'.'"
      ]
     },
     "execution_count": 13,
     "metadata": {},
     "output_type": "execute_result"
    }
   ],
   "source": [
    "arr[0][2]"
   ]
  },
  {
   "cell_type": "code",
   "execution_count": 18,
   "metadata": {},
   "outputs": [
    {
     "data": {
      "text/plain": [
       "['O', 'E', 'O', 'A']"
      ]
     },
     "execution_count": 18,
     "metadata": {},
     "output_type": "execute_result"
    }
   ],
   "source": [
    "ans"
   ]
  },
  {
   "cell_type": "code",
   "execution_count": 20,
   "metadata": {},
   "outputs": [
    {
     "data": {
      "text/plain": [
       "'O*E*O*A'"
      ]
     },
     "execution_count": 20,
     "metadata": {},
     "output_type": "execute_result"
    }
   ],
   "source": [
    "\"*\".join(ans)"
   ]
  },
  {
   "cell_type": "code",
   "execution_count": null,
   "metadata": {},
   "outputs": [],
   "source": []
  }
 ],
 "metadata": {
  "kernelspec": {
   "display_name": "Python 3",
   "language": "python",
   "name": "python3"
  },
  "language_info": {
   "codemirror_mode": {
    "name": "ipython",
    "version": 3
   },
   "file_extension": ".py",
   "mimetype": "text/x-python",
   "name": "python",
   "nbconvert_exporter": "python",
   "pygments_lexer": "ipython3",
   "version": "3.7.3"
  }
 },
 "nbformat": 4,
 "nbformat_minor": 2
}
